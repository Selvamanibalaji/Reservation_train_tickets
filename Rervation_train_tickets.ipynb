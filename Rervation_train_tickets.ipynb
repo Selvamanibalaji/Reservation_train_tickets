{
  "nbformat": 4,
  "nbformat_minor": 0,
  "metadata": {
    "colab": {
      "name": "train ticket booking.ipynb",
      "provenance": []
    },
    "kernelspec": {
      "name": "python3",
      "display_name": "Python 3"
    },
    "language_info": {
      "name": "python"
    }
  },
  "cells": [
    {
      "cell_type": "markdown",
      "source": [
        "#assignment 1"
      ],
      "metadata": {
        "id": "S112gNVBdUqs"
      }
    },
    {
      "cell_type": "code",
      "source": [
        "database = [[\"balaji\",1111],[\"bhuvanesh\",2222],[\"jeffer\",3333],[\"ganesh\",4444]]\n",
        "print(\"please login.\")\n",
        "userid = input(\"please enter your user id:\")\n",
        "password = int(input (\"enter your 4 digit password:\"))\n",
        "list = [userid,password]\n",
        "if list in database:\n",
        "  print(\"your logged in successfully\",userid)\n",
        "else:\n",
        "  print(\"sorry,your not register. please register.\")\n",
        "userid=(\"enter your name:\")\n",
        "password=(\"enter your 4 digit password:\")\n",
        "list.extend([userid,password])\n",
        "database.append(list)\n",
        "print(\"you registerd/logged in successfully\",userid)\n",
        "fullname = input(\"please enter your full name:\")\n",
        "DOJ = input(\"enter your date of journey:\")\n",
        "station1 = input(\"boarding from:\")\n",
        "station2 = input(\"destination:\")\n",
        "tickets = int(input(\"please enter no of tickets:\"))\n",
        "import random\n",
        "#generate random numbers\n",
        "tickets_approved = random.sample(range(1,100),tickets)\n",
        "print(tickets_approved)\n",
        "dict = {'name': fullname,'date of journey':DOJ,'boarding from':station1,'destination':station2,'no . of tickets booked':tickets,'seat nos.booked':tickets_approved}\n",
        "x = input(\"enter your full name to verify your booking details:\")\n",
        "if x == fullname:\n",
        "  print(dict)\n",
        "  print(\"please continue for payments.\")\n",
        "else:\n",
        "  print(\"sorry, no details found.\")\n",
        "\n",
        "\n",
        "\n"
      ],
      "metadata": {
        "colab": {
          "base_uri": "https://localhost:8080/"
        },
        "id": "B2iq9MBnd1DB",
        "outputId": "5aa0c49a-920c-4cd2-9d8d-6c83a7cfde43"
      },
      "execution_count": 9,
      "outputs": [
        {
          "output_type": "stream",
          "name": "stdout",
          "text": [
            "please login.\n",
            "please enter your user id:balaji\n",
            "enter your 4 digit password:1111\n",
            "your logged in successfully balaji\n",
            "you registerd/logged in successfully enter your name:\n",
            "please enter your full name:balaji\n",
            "enter your date of journey:6\n",
            "boarding from:theni\n",
            "destination:chennai\n",
            "please enter no of tickets:2\n",
            "[34, 33]\n",
            "enter your full name to verify your booking details:balaji\n",
            "{'name': 'balaji', 'date of journey': '6', 'boarding from': 'theni', 'destination': 'chennai', 'no . of tickets booked': 2, 'seat nos.booked': [34, 33]}\n",
            "please continue for payments.\n"
          ]
        }
      ]
    }
  ]
}